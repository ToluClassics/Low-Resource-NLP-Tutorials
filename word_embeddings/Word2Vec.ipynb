{
  "cells": [
    {
      "cell_type": "markdown",
      "metadata": {
        "id": "KcpS4B-Np7Bv"
      },
      "source": [
        "# Word2Vec\n",
        "\n",
        "“you shall know a word by the company it keeps” — (Firth, J. R. 1957:11)\n",
        "\n",
        "As the goal of this resource is to teach NLP for low-resource languages, we are going to start with learning word embeddings for some low resource languages e.g Yoruba, Igbo, Swahili e.t.c from scratch using word2vec. Word2Vec was introduced in [Efficient Estimation of Word Representations in\n",
        "Vector Space](https://arxiv.org/pdf/1301.3781.pdf) and the overarching idea is that the meaning of a word is dependent on the context of which it is often used.\n",
        "\n",
        "In this tutorial, we would learn and visualize word embeddings for different languages using the [mC4](https://huggingface.co/datasets/mc4) dataset and pytorch.\n",
        "\n",
        "\n",
        "## Important terminologies to note\n",
        "\n",
        "- CBOW:\n",
        "- SkipGram:\n",
        "- Corpus:\n",
        "- Vocabulary:\n",
        "- Word Subsampling:\n"
      ]
    },
    {
      "cell_type": "code",
      "execution_count": 1,
      "metadata": {
        "id": "utbEg7fJwJHR",
        "colab": {
          "base_uri": "https://localhost:8080/"
        },
        "outputId": "8b310919-7b22-4379-e027-c29a6ae407fd"
      },
      "outputs": [
        {
          "output_type": "stream",
          "name": "stdout",
          "text": [
            "Looking in indexes: https://pypi.org/simple, https://us-python.pkg.dev/colab-wheels/public/simple/\n",
            "Collecting datasets\n",
            "  Downloading datasets-2.4.0-py3-none-any.whl (365 kB)\n",
            "\u001b[K     |████████████████████████████████| 365 kB 7.8 MB/s \n",
            "\u001b[?25hRequirement already satisfied: pyarrow>=6.0.0 in /usr/local/lib/python3.7/dist-packages (from datasets) (6.0.1)\n",
            "Collecting xxhash\n",
            "  Downloading xxhash-3.0.0-cp37-cp37m-manylinux_2_17_x86_64.manylinux2014_x86_64.whl (212 kB)\n",
            "\u001b[K     |████████████████████████████████| 212 kB 67.9 MB/s \n",
            "\u001b[?25hRequirement already satisfied: aiohttp in /usr/local/lib/python3.7/dist-packages (from datasets) (3.8.1)\n",
            "Collecting huggingface-hub<1.0.0,>=0.1.0\n",
            "  Downloading huggingface_hub-0.9.1-py3-none-any.whl (120 kB)\n",
            "\u001b[K     |████████████████████████████████| 120 kB 70.1 MB/s \n",
            "\u001b[?25hRequirement already satisfied: importlib-metadata in /usr/local/lib/python3.7/dist-packages (from datasets) (4.12.0)\n",
            "Requirement already satisfied: tqdm>=4.62.1 in /usr/local/lib/python3.7/dist-packages (from datasets) (4.64.0)\n",
            "Requirement already satisfied: pandas in /usr/local/lib/python3.7/dist-packages (from datasets) (1.3.5)\n",
            "Collecting multiprocess\n",
            "  Downloading multiprocess-0.70.13-py37-none-any.whl (115 kB)\n",
            "\u001b[K     |████████████████████████████████| 115 kB 76.3 MB/s \n",
            "\u001b[?25hRequirement already satisfied: requests>=2.19.0 in /usr/local/lib/python3.7/dist-packages (from datasets) (2.23.0)\n",
            "Requirement already satisfied: numpy>=1.17 in /usr/local/lib/python3.7/dist-packages (from datasets) (1.21.6)\n",
            "Requirement already satisfied: fsspec[http]>=2021.11.1 in /usr/local/lib/python3.7/dist-packages (from datasets) (2022.7.1)\n",
            "Requirement already satisfied: dill<0.3.6 in /usr/local/lib/python3.7/dist-packages (from datasets) (0.3.5.1)\n",
            "Requirement already satisfied: packaging in /usr/local/lib/python3.7/dist-packages (from datasets) (21.3)\n",
            "Collecting responses<0.19\n",
            "  Downloading responses-0.18.0-py3-none-any.whl (38 kB)\n",
            "Requirement already satisfied: filelock in /usr/local/lib/python3.7/dist-packages (from huggingface-hub<1.0.0,>=0.1.0->datasets) (3.8.0)\n",
            "Requirement already satisfied: pyyaml>=5.1 in /usr/local/lib/python3.7/dist-packages (from huggingface-hub<1.0.0,>=0.1.0->datasets) (6.0)\n",
            "Requirement already satisfied: typing-extensions>=3.7.4.3 in /usr/local/lib/python3.7/dist-packages (from huggingface-hub<1.0.0,>=0.1.0->datasets) (4.1.1)\n",
            "Requirement already satisfied: pyparsing!=3.0.5,>=2.0.2 in /usr/local/lib/python3.7/dist-packages (from packaging->datasets) (3.0.9)\n",
            "Requirement already satisfied: chardet<4,>=3.0.2 in /usr/local/lib/python3.7/dist-packages (from requests>=2.19.0->datasets) (3.0.4)\n",
            "Requirement already satisfied: idna<3,>=2.5 in /usr/local/lib/python3.7/dist-packages (from requests>=2.19.0->datasets) (2.10)\n",
            "Requirement already satisfied: urllib3!=1.25.0,!=1.25.1,<1.26,>=1.21.1 in /usr/local/lib/python3.7/dist-packages (from requests>=2.19.0->datasets) (1.24.3)\n",
            "Requirement already satisfied: certifi>=2017.4.17 in /usr/local/lib/python3.7/dist-packages (from requests>=2.19.0->datasets) (2022.6.15)\n",
            "Collecting urllib3!=1.25.0,!=1.25.1,<1.26,>=1.21.1\n",
            "  Downloading urllib3-1.25.11-py2.py3-none-any.whl (127 kB)\n",
            "\u001b[K     |████████████████████████████████| 127 kB 68.0 MB/s \n",
            "\u001b[?25hRequirement already satisfied: charset-normalizer<3.0,>=2.0 in /usr/local/lib/python3.7/dist-packages (from aiohttp->datasets) (2.1.1)\n",
            "Requirement already satisfied: attrs>=17.3.0 in /usr/local/lib/python3.7/dist-packages (from aiohttp->datasets) (22.1.0)\n",
            "Requirement already satisfied: multidict<7.0,>=4.5 in /usr/local/lib/python3.7/dist-packages (from aiohttp->datasets) (6.0.2)\n",
            "Requirement already satisfied: aiosignal>=1.1.2 in /usr/local/lib/python3.7/dist-packages (from aiohttp->datasets) (1.2.0)\n",
            "Requirement already satisfied: frozenlist>=1.1.1 in /usr/local/lib/python3.7/dist-packages (from aiohttp->datasets) (1.3.1)\n",
            "Requirement already satisfied: async-timeout<5.0,>=4.0.0a3 in /usr/local/lib/python3.7/dist-packages (from aiohttp->datasets) (4.0.2)\n",
            "Requirement already satisfied: yarl<2.0,>=1.0 in /usr/local/lib/python3.7/dist-packages (from aiohttp->datasets) (1.8.1)\n",
            "Requirement already satisfied: asynctest==0.13.0 in /usr/local/lib/python3.7/dist-packages (from aiohttp->datasets) (0.13.0)\n",
            "Requirement already satisfied: zipp>=0.5 in /usr/local/lib/python3.7/dist-packages (from importlib-metadata->datasets) (3.8.1)\n",
            "Requirement already satisfied: python-dateutil>=2.7.3 in /usr/local/lib/python3.7/dist-packages (from pandas->datasets) (2.8.2)\n",
            "Requirement already satisfied: pytz>=2017.3 in /usr/local/lib/python3.7/dist-packages (from pandas->datasets) (2022.2.1)\n",
            "Requirement already satisfied: six>=1.5 in /usr/local/lib/python3.7/dist-packages (from python-dateutil>=2.7.3->pandas->datasets) (1.15.0)\n",
            "Installing collected packages: urllib3, xxhash, responses, multiprocess, huggingface-hub, datasets\n",
            "  Attempting uninstall: urllib3\n",
            "    Found existing installation: urllib3 1.24.3\n",
            "    Uninstalling urllib3-1.24.3:\n",
            "      Successfully uninstalled urllib3-1.24.3\n",
            "Successfully installed datasets-2.4.0 huggingface-hub-0.9.1 multiprocess-0.70.13 responses-0.18.0 urllib3-1.25.11 xxhash-3.0.0\n"
          ]
        }
      ],
      "source": [
        "!pip install datasets"
      ]
    },
    {
      "cell_type": "markdown",
      "metadata": {
        "id": "2K9dABeqviIL"
      },
      "source": [
        "# Dataset\n",
        "\n",
        "- First we need to build a corpus which consists of all th"
      ]
    },
    {
      "cell_type": "code",
      "execution_count": 2,
      "metadata": {
        "id": "pIuBRQn5pOT6"
      },
      "outputs": [],
      "source": [
        "#@title String fields\n",
        "\n",
        "Select_Language = 'Yoruba' #@param [\"English\", \"Yoruba\", \"Igbo\", \"Swahili\", \"Hausa\"]\n",
        "\n",
        "LANG_2_CODE = {\"English\" : \"en\", \"Yoruba\" : \"yo\", \"Igbo\": \"ig\", \"Swahili\": \"sw\", \"Hausa\": \"ha\"} "
      ]
    },
    {
      "cell_type": "code",
      "execution_count": 3,
      "metadata": {
        "colab": {
          "base_uri": "https://localhost:8080/",
          "height": 220,
          "referenced_widgets": [
            "4ef5599bd1fc48f09ad57b162f40e499",
            "4cca4e3b5af54fcbb94b3ecf81b51039",
            "663fb0ed7c7f4ff1a5f44b468ab264e1",
            "8fda126f315a49289d6e4a2d88421afe",
            "b1ef8b4d227a45369007e25157eee30d",
            "4d53e6ff33e048f8b54fd889e1e74898",
            "6e46a680427d41f8bb2b07ec92ed5ebe",
            "39bbd4b3f55e40349eec7e3bb2f2c728",
            "85c6c8451a6049cfa0dc799ae0db75a8",
            "4aac787e89f24b26b3ac1ff8308c4389",
            "54750c905c3a42b69183fe1111756ed6",
            "c5e0eb2a32a04802a581b0b64089a81d",
            "ed1db60f6469401f9dc5f989d8cd16cc",
            "7b6d5e305eaa4733aedf9cb0ca8d1053",
            "c4f38896ec724275a20885bb31f3cfbe",
            "080ecf7af58b4df6837981116faab8d7",
            "76f3dbb8d045456781a842c28f626e36",
            "f071b32004fb4cf99cd3aac089b34ec8",
            "20483a1432b342b1b6d797ee16fac944",
            "0895c5a13a464857b1128e1d027ebec5",
            "02fe6c5108214c978cfc952a60b76738",
            "bfb272fc7d95467f890f93abf0bc03d5",
            "211b7071a23e4acc80adbcbffa232a7b",
            "dc65be6a73834e47a185ff8f9137e75c",
            "658365266d0b429c9c83623e43dd0884",
            "91732e12cba34fea9b6dd413ef607b32",
            "22398daa626946b8903b3ecbcb7215c3",
            "89c6d0f86676474fbc9ad88a13c9174f",
            "bdeefedc943a4e558c82ec2fc5f0d185",
            "ef7d5634a9524644a9fb443188de1511",
            "e1c0cd9fc8054daa997a558641afc8d6",
            "675412a1bf2b42afad5b24fe1465533f",
            "91513847bcac4ba69479a78be20233a1",
            "ffb02c31d23c4d3cb95ce83ab8469379",
            "0bb293ae5dad471fbc34fe8b2459b4ba",
            "564030fab0e34d649b375889eab22ee6",
            "e00176f103c14906968ce21408bd1df4",
            "1853330b0fd14bd9b763ad9751dbedfd",
            "c60dc2fc010943699d0c05b5e3305a4d",
            "f60ac40fe7d649128ca23a1c1ddab087",
            "dd72244c7d554add93f41b4864219157",
            "1388671e6d5c4110b127622856c57002",
            "45b76e458e834641ab3ac4586800bcff",
            "931fbfdd68f44bcaa44924fdb359ea79",
            "0d24e61ae12a49cbb6df6c9179e057a8",
            "62ea27220c78474ea0eebef40d47c409",
            "705d26c16e7541ddb460712c6634a39d",
            "1f40169d29774ae483fc8dba9103f024",
            "684d975721b44ada930aecaa673b3db4",
            "3c01569aaf6945aab085ca361d4889c9",
            "261876b3fb3c433682f6d6b3408b911e",
            "4930f660e4d74d56878a816110a9743e",
            "d08d6bcb1b904408a9b93d1053902a15",
            "ff3430d73d7a4922b919079119e19ddd",
            "8bff6294e846446ba6c3e198575724bc"
          ]
        },
        "id": "vstbeG-pxxaw",
        "outputId": "fa11c2cd-3c8e-4da1-8341-8e782e1073d1"
      },
      "outputs": [
        {
          "output_type": "display_data",
          "data": {
            "text/plain": [
              "Downloading builder script:   0%|          | 0.00/1.49k [00:00<?, ?B/s]"
            ],
            "application/vnd.jupyter.widget-view+json": {
              "version_major": 2,
              "version_minor": 0,
              "model_id": "4ef5599bd1fc48f09ad57b162f40e499"
            }
          },
          "metadata": {}
        },
        {
          "output_type": "display_data",
          "data": {
            "text/plain": [
              "Downloading metadata:   0%|          | 0.00/942 [00:00<?, ?B/s]"
            ],
            "application/vnd.jupyter.widget-view+json": {
              "version_major": 2,
              "version_minor": 0,
              "model_id": "c5e0eb2a32a04802a581b0b64089a81d"
            }
          },
          "metadata": {}
        },
        {
          "output_type": "stream",
          "name": "stdout",
          "text": [
            "Downloading and preparing dataset yoruba_text_c3/yoruba_text_c3 (download: 71.91 MiB, generated: 73.52 MiB, post-processed: Unknown size, total: 145.44 MiB) to /root/.cache/huggingface/datasets/yoruba_text_c3/yoruba_text_c3/1.0.0/dbf0b0085c03d98b73f35fe80f4e75928025b483958c24f86440104921830d98...\n"
          ]
        },
        {
          "output_type": "display_data",
          "data": {
            "text/plain": [
              "Downloading data:   0%|          | 0.00/75.4M [00:00<?, ?B/s]"
            ],
            "application/vnd.jupyter.widget-view+json": {
              "version_major": 2,
              "version_minor": 0,
              "model_id": "211b7071a23e4acc80adbcbffa232a7b"
            }
          },
          "metadata": {}
        },
        {
          "output_type": "display_data",
          "data": {
            "text/plain": [
              "Generating train split:   0%|          | 0/562238 [00:00<?, ? examples/s]"
            ],
            "application/vnd.jupyter.widget-view+json": {
              "version_major": 2,
              "version_minor": 0,
              "model_id": "ffb02c31d23c4d3cb95ce83ab8469379"
            }
          },
          "metadata": {}
        },
        {
          "output_type": "stream",
          "name": "stdout",
          "text": [
            "Dataset yoruba_text_c3 downloaded and prepared to /root/.cache/huggingface/datasets/yoruba_text_c3/yoruba_text_c3/1.0.0/dbf0b0085c03d98b73f35fe80f4e75928025b483958c24f86440104921830d98. Subsequent calls will reuse this data.\n"
          ]
        },
        {
          "output_type": "display_data",
          "data": {
            "text/plain": [
              "  0%|          | 0/1 [00:00<?, ?it/s]"
            ],
            "application/vnd.jupyter.widget-view+json": {
              "version_major": 2,
              "version_minor": 0,
              "model_id": "0d24e61ae12a49cbb6df6c9179e057a8"
            }
          },
          "metadata": {}
        },
        {
          "output_type": "stream",
          "name": "stderr",
          "text": [
            "100%|██████████| 562238/562238 [00:00<00:00, 1727237.30it/s]\n"
          ]
        }
      ],
      "source": [
        "import warnings\n",
        "from tqdm import tqdm\n",
        "from datasets import load_dataset\n",
        "warnings.filterwarnings(\"ignore\")\n",
        "\n",
        "def fetch_igbo_corpus() -> list:\n",
        "    \"\"\"\n",
        "    This function generates a a corpus for Igbo language which is a list of \n",
        "    sentences from a huggingface dataset\n",
        "    Dataset: https://huggingface.co/datasets/igbo_monolingual\n",
        "    \"\"\"\n",
        "\n",
        "    igbo_monolingual = ['eze_goes_to_school', 'bbc-igbo', 'igbo-radio', 'jw-ot-igbo', \\\n",
        "                        'jw-nt-igbo', 'jw-books', 'jw-teta', 'jw-ulo_nche', 'jw-ulo_nche_naamu']\n",
        "\n",
        "    sentences = []\n",
        "    for conf in tqdm(igbo_monolingual):\n",
        "        dataset = load_dataset(\"igbo_monolingual\", conf)\n",
        "        if conf == 'eze_goes_to_school':\n",
        "            sentences.extend([sentence for sentence in dataset['train']['chapters'][0]['title']])\n",
        "            for i in range(len(dataset['train']['chapters'][0]['content'])):\n",
        "                sentences.extend([sentence for sentence in dataset['train']['chapters'][0]['content'][i].split(\".\")])\n",
        "        elif conf == 'bbc-igbo':\n",
        "            sentences.extend([sentence for sentence in dataset['train']['title']])\n",
        "            sentences.extend([sentence for sentence in dataset['train']['description']])\n",
        "            for i in range(len(dataset['train']['content'])):\n",
        "                sentences.extend([sentence for sentence in dataset['train']['content'][i].split(\".\")])\n",
        "        elif conf == 'igbo-radio':\n",
        "            for i in range(len(dataset['train']['content'])):\n",
        "                sentences.extend([sentence for sentence in dataset['train']['content'][i].split(\".\")])\n",
        "                sentences.extend([sentence for sentence in dataset['train']['description'][i].split(\".\")])\n",
        "        elif conf in ['jw-ot-igbo', 'jw-nt-igbo']:\n",
        "            for i in range(len(dataset['train'])):\n",
        "                for j in range(len(dataset['train'][i]['chapters'])):\n",
        "                    try:\n",
        "                        sentences.extend([sentence for sentence in dataset['train']['chapters'][i]['content'][j].split(\".\")])\n",
        "                    except IndexError as e:\n",
        "                        continue\n",
        "        else:\n",
        "            for i in range(len(dataset['train'])):\n",
        "                sentences.extend([sentence for sentence in dataset['train'][i]['content'].split(\".\")])\n",
        "\n",
        "    return sentences\n",
        "\n",
        "\n",
        "def fetch_english_corpus() -> list:\n",
        "    \"\"\"\n",
        "    This function generates a a corpus for English language which is a list of \n",
        "    sentences from a huggingface dataset\n",
        "    Dataset: https://huggingface.co/datasets/wikitext\n",
        "    \"\"\"\n",
        "    sentences = []\n",
        "\n",
        "    dataset = load_dataset(\"wikitext\", 'wikitext-103-v1')\n",
        "    for split in [\"test\", \"train\", \"validation\"]:\n",
        "        for i in tqdm(range(len(dataset[split]['text']))):\n",
        "            sentences.extend([sentence for sentence in dataset[split]['text'][i].split(\".\")])\n",
        "    \n",
        "    return sentences\n",
        "\n",
        "def fetch_yoruba_corpus() -> list:\n",
        "    \"\"\"\n",
        "    This function generates a a corpus for Yoruba language which is a list of \n",
        "    sentences from a huggingface dataset\n",
        "    Dataset: https://huggingface.co/datasets/yoruba_text_c3\n",
        "    \"\"\"\n",
        "    sentences = []\n",
        "\n",
        "    dataset = load_dataset(\"yoruba_text_c3\")\n",
        "    # for i in tqdm(range(len(dataset[\"train\"][\"text\"]))):\n",
        "    #     sentences.extend([sentence for sentence in dataset[\"train\"][\"text\"][i].split(\".\")])\n",
        "    \n",
        "    for sentence in tqdm(dataset[\"train\"][\"text\"]):\n",
        "        sentences.extend(sentence.split(\".\"))\n",
        "\n",
        "    sentences = [w.split() for w in sentences if w != '']\n",
        "    return sentences\n",
        "\n",
        "\n",
        "def fetch_swahili_corpus() -> list:\n",
        "    \"\"\"\n",
        "    This function generates a a corpus for Swahili language which is a list of \n",
        "    sentences from a huggingface dataset\n",
        "    Dataset: https://huggingface.co/datasets/swahili\n",
        "    \"\"\"\n",
        "    sentences = []\n",
        "\n",
        "    dataset = load_dataset(\"swahili\")\n",
        "    for split in [\"test\", \"train\", \"validation\"]:\n",
        "        for i in tqdm(range(len(dataset[split][\"text\"]))):\n",
        "            sentences.extend([sentence for sentence in dataset[split][\"text\"][i].split(\".\")])\n",
        "\n",
        "    return sentences\n",
        "\n",
        "\n",
        "\n",
        "sentences = fetch_yoruba_corpus()"
      ]
    },
    {
      "cell_type": "code",
      "execution_count": 4,
      "metadata": {
        "id": "EWNFfirX1mTk",
        "colab": {
          "base_uri": "https://localhost:8080/"
        },
        "outputId": "11fa2692-970c-40e3-eb05-6c1522b72a81"
      },
      "outputs": [
        {
          "output_type": "stream",
          "name": "stderr",
          "text": [
            "100%|██████████| 569382/569382 [01:03<00:00, 8929.95it/s] \n"
          ]
        }
      ],
      "source": [
        "import re\n",
        "\n",
        "def process_text(corpus_list: list) -> list:\n",
        "    \"\"\"\n",
        "    This function is for preprocessing the downloaded texts\n",
        "    1. lowercase\n",
        "    2. remove symbols and numbers\n",
        "    3. remove whitespace\n",
        "    \"\"\"\n",
        "\n",
        "    processed_corpus = []\n",
        "\n",
        "    for sentence in tqdm(corpus_list):\n",
        "        sentence = [re.sub(r\"\\W\", \"\", x) for x in sentence]\n",
        "        sentence = [re.sub(r\"\\d+\", \"\", x) for x in sentence]\n",
        "        sentence = [re.sub(r\"\\s\", '', x) for x in sentence]\n",
        "        sentence = [x.lower() for x in sentence if x.strip() != \"\" and len(x) > 1]\n",
        "        processed_corpus.append(sentence)\n",
        "\n",
        "    return processed_corpus\n",
        "\n",
        "sentences = process_text(sentences)"
      ]
    },
    {
      "cell_type": "code",
      "execution_count": 5,
      "metadata": {
        "id": "2L1kS5fcLLWb",
        "colab": {
          "base_uri": "https://localhost:8080/"
        },
        "outputId": "3137564b-8f6c-487a-9ec6-ff934260dd93"
      },
      "outputs": [
        {
          "output_type": "execute_result",
          "data": {
            "text/plain": [
              "['lílo',\n",
              " 'àkàbà',\n",
              " 'njé',\n",
              " 'máa',\n",
              " 'ṣe',\n",
              " 'àyèwò',\n",
              " 'wònyí',\n",
              " 'tó',\n",
              " 'lè',\n",
              " 'dáàbò',\n",
              " 'bò']"
            ]
          },
          "metadata": {},
          "execution_count": 5
        }
      ],
      "source": [
        "sentences[0]"
      ]
    },
    {
      "cell_type": "markdown",
      "source": [
        "# Random Words Subsampling"
      ],
      "metadata": {
        "id": "q4iAyMoWkEli"
      }
    },
    {
      "cell_type": "code",
      "source": [
        "from collections import Counter\n",
        "import random, math\n",
        "import itertools\n",
        "\n",
        "def subsample_words(corpus_list: list) -> list:\n",
        "    \"\"\"\n",
        "    \"\"\"\n",
        "    filtered_corpus = []\n",
        "\n",
        "    word_counts = dict(Counter(itertools.chain.from_iterable(corpus_list)))\n",
        "    sum_word_count = sum(word_counts.values())\n",
        "    word_proportion = {word: word_counts[word]/sum_word_count for word in word_counts}\n",
        "\n",
        "    for sentence in tqdm(corpus_list):\n",
        "        filtered_corpus.append([])\n",
        "\n",
        "        for word in sentence:\n",
        "            subsampling_score = (1e-3/word_proportion[word]) * (math.sqrt(1e3*word_proportion[word])+1)\n",
        "            if random.random() < subsampling_score:\n",
        "                filtered_corpus[-1].append(word)\n",
        "    \n",
        "    return filtered_corpus\n",
        "\n",
        "\n",
        "\n",
        "\n",
        "sentences = subsample_words(sentences)"
      ],
      "metadata": {
        "colab": {
          "base_uri": "https://localhost:8080/"
        },
        "id": "I8TffMBkdLL9",
        "outputId": "26933b7c-4a4e-433e-d1ee-557bf6723513"
      },
      "execution_count": 6,
      "outputs": [
        {
          "output_type": "stream",
          "name": "stderr",
          "text": [
            "100%|██████████| 569382/569382 [00:08<00:00, 71162.85it/s]\n"
          ]
        }
      ]
    },
    {
      "cell_type": "code",
      "source": [
        "sentences[0]"
      ],
      "metadata": {
        "colab": {
          "base_uri": "https://localhost:8080/"
        },
        "id": "jPbqgYSEl0aU",
        "outputId": "4b1be9a7-e21c-45f5-f10d-714809d4cb4f"
      },
      "execution_count": 7,
      "outputs": [
        {
          "output_type": "execute_result",
          "data": {
            "text/plain": [
              "['lílo', 'àkàbà', 'njé', 'máa', 'àyèwò', 'wònyí', 'lè', 'dáàbò', 'bò']"
            ]
          },
          "metadata": {},
          "execution_count": 7
        }
      ]
    },
    {
      "cell_type": "code",
      "source": [
        "final_corpus = subsample_words(sentences)\n",
        "final_vocabulary = set(itertools.chain.from_iterable(final_corpus))\n",
        "\n",
        "word_2_index  = {w: i for i, w in enumerate(final_vocabulary)}\n",
        "index_2_word  = {i: w for i, w in enumerate(final_vocabulary)}\n",
        "\n",
        "\n",
        "print(f\"There are {len(final_vocabulary)} words in the training vocabulary (unique words)\")\n",
        "print(f\"There are {len(final_corpus)} sentences in the training corpus\")"
      ],
      "metadata": {
        "colab": {
          "base_uri": "https://localhost:8080/"
        },
        "id": "bFaqD8Vtm-Pk",
        "outputId": "314f9aed-201e-470e-bd71-7a39a8d7d3ba"
      },
      "execution_count": 8,
      "outputs": [
        {
          "output_type": "stream",
          "name": "stderr",
          "text": [
            "100%|██████████| 569382/569382 [00:05<00:00, 98423.83it/s]\n"
          ]
        },
        {
          "output_type": "stream",
          "name": "stdout",
          "text": [
            "There are 99196 words in the training vocabulary (unique words)\n",
            "There are 569382 sentences in the training corpus\n"
          ]
        }
      ]
    },
    {
      "cell_type": "code",
      "source": [
        "index_2_word[0]"
      ],
      "metadata": {
        "colab": {
          "base_uri": "https://localhost:8080/",
          "height": 36
        },
        "id": "g6cde5oBst-t",
        "outputId": "4767ad0c-9637-49bf-8ea3-148a83c037e7"
      },
      "execution_count": 9,
      "outputs": [
        {
          "output_type": "execute_result",
          "data": {
            "text/plain": [
              "'foún'"
            ],
            "application/vnd.google.colaboratory.intrinsic+json": {
              "type": "string"
            }
          },
          "metadata": {},
          "execution_count": 9
        }
      ]
    },
    {
      "cell_type": "code",
      "source": [
        "def gen_context_words(corpus: list, context_window: int = 3) -> list:\n",
        "    \"\"\"\n",
        "    Without Negative Sampling\n",
        "    \"\"\"\n",
        "    context_words = [] #list of tuples containing (word, context_word)\n",
        "\n",
        "    for sentence_list in tqdm(corpus):\n",
        "        for i, word in enumerate(sentence_list):\n",
        "            start_index = max(0, i-context_window)\n",
        "            end_index = min(len(sentence_list), i+context_window)\n",
        "            for j in range(start_index, end_index):\n",
        "                if i!=j:\n",
        "                    context_words.append((word, sentence_list[j]))\n",
        "    \n",
        "    return context_words\n",
        "\n",
        "context_words = gen_context_words(final_corpus)\n",
        "print(\"\\n There are {} pairs of target and context words\".format(len(context_words)))"
      ],
      "metadata": {
        "colab": {
          "base_uri": "https://localhost:8080/"
        },
        "id": "PS6zh2M1sy7U",
        "outputId": "33404a73-c962-414d-e7a8-ff5d3e921229"
      },
      "execution_count": 10,
      "outputs": [
        {
          "output_type": "stream",
          "name": "stderr",
          "text": [
            "100%|██████████| 569382/569382 [00:14<00:00, 40145.93it/s]"
          ]
        },
        {
          "output_type": "stream",
          "name": "stdout",
          "text": [
            "\n",
            " There are 31351693 pairs of target and context words\n"
          ]
        },
        {
          "output_type": "stream",
          "name": "stderr",
          "text": [
            "\n"
          ]
        }
      ]
    },
    {
      "cell_type": "code",
      "source": [
        "context_words[:10]"
      ],
      "metadata": {
        "colab": {
          "base_uri": "https://localhost:8080/"
        },
        "id": "l7gYQtY9NG4G",
        "outputId": "f73f534f-d49d-41ca-e6a3-b98912a14099"
      },
      "execution_count": 11,
      "outputs": [
        {
          "output_type": "execute_result",
          "data": {
            "text/plain": [
              "[('lílo', 'àkàbà'),\n",
              " ('lílo', 'njé'),\n",
              " ('àkàbà', 'lílo'),\n",
              " ('àkàbà', 'njé'),\n",
              " ('àkàbà', 'àyèwò'),\n",
              " ('njé', 'lílo'),\n",
              " ('njé', 'àkàbà'),\n",
              " ('njé', 'àyèwò'),\n",
              " ('njé', 'wònyí'),\n",
              " ('àyèwò', 'lílo')]"
            ]
          },
          "metadata": {},
          "execution_count": 11
        }
      ]
    },
    {
      "cell_type": "markdown",
      "source": [
        "# Negative Sampling"
      ],
      "metadata": {
        "id": "XmYNj4F1PuEN"
      }
    },
    {
      "cell_type": "code",
      "source": [
        "import numpy as np\n",
        "from numpy.random import multinomial\n",
        "\n",
        "def sample_negative(corpus: list, sample_size: int=8):\n",
        "    sample_probability = {}\n",
        "    word_counts = dict(Counter(list(itertools.chain.from_iterable(corpus))))\n",
        "    normalizing_factor = sum([v**0.75 for v in word_counts.values()])\n",
        "    for word in word_counts:\n",
        "        sample_probability[word] = word_counts[word]**0.75 / normalizing_factor\n",
        "    words = np.array(list(word_counts.keys()))\n",
        "    while True:\n",
        "        word_list = []\n",
        "        sampled_index = np.array(multinomial(sample_size, list(sample_probability.values())))\n",
        "        for index, count in enumerate(sampled_index):\n",
        "            for _ in range(count):\n",
        "                 word_list.append(words[index])\n",
        "        yield word_list\n",
        "\n",
        "def gen_context_words_with_negative_sampling(corpus: list, context_window: int=3) -> list:\n",
        "    \"\"\"\n",
        "    With Negative Sampling\n",
        "    \"\"\"\n",
        "    context_words = [] #list of tuples containing (word, context_word, negative_samples)\n",
        "\n",
        "    neg_samples = sample_negative(final_corpus)\n",
        "\n",
        "    for sentence_list in tqdm(corpus[:20]):\n",
        "        for i, word in enumerate(sentence_list):\n",
        "            start_index = max(0, i-context_window)\n",
        "            end_index = min(len(sentence_list), i+context_window)\n",
        "            for j in range(start_index, end_index):\n",
        "                if i!=j:\n",
        "                    context_words.append((word, sentence_list[j], next(neg_samples)))\n",
        "    \n",
        "    return context_words\n",
        "\n",
        "\n",
        "context_words = gen_context_words_with_negative_sampling(final_corpus)\n",
        "print(\"\\n There are {} pairs of target and context words\".format(len(context_words)))"
      ],
      "metadata": {
        "colab": {
          "base_uri": "https://localhost:8080/"
        },
        "id": "MDkuKq2_Nyto",
        "outputId": "63504910-0239-478a-a8bb-14962cf7118a"
      },
      "execution_count": 13,
      "outputs": [
        {
          "output_type": "stream",
          "name": "stderr",
          "text": [
            "100%|██████████| 20/20 [00:20<00:00,  1.02s/it]"
          ]
        },
        {
          "output_type": "stream",
          "name": "stdout",
          "text": [
            "\n",
            " There are 555 pairs of target and context words\n"
          ]
        },
        {
          "output_type": "stream",
          "name": "stderr",
          "text": [
            "\n"
          ]
        }
      ]
    },
    {
      "cell_type": "code",
      "source": [
        "context_words[0]"
      ],
      "metadata": {
        "colab": {
          "base_uri": "https://localhost:8080/"
        },
        "id": "Rer1K9ZsiYQt",
        "outputId": "13ebf34d-06c4-43b7-81ec-210aead86824"
      },
      "execution_count": 14,
      "outputs": [
        {
          "output_type": "execute_result",
          "data": {
            "text/plain": [
              "('lílo',\n",
              " 'àkàbà',\n",
              " ['ẹrù', 'ńṣe', 'ìṣe', 'sábé', 'yòówù', 'jae', 'iṣẹlẹ', 'egberun'])"
            ]
          },
          "metadata": {},
          "execution_count": 14
        }
      ]
    },
    {
      "cell_type": "markdown",
      "source": [
        "# Model"
      ],
      "metadata": {
        "id": "Jhm1GYySgs48"
      }
    },
    {
      "cell_type": "code",
      "source": [
        "from numpy.core.memmap import dtype\n",
        "import torch\n",
        "import torch.nn as nn\n",
        "import torch.nn.functional as F\n",
        "import torch.optim as optim\n",
        "from torch.utils.data import Dataset, DataLoader\n",
        "\n",
        "class word2vecDataset(Dataset):\n",
        "    def __init__(self, corpus: list) -> None:\n",
        "        super().__init__()\n",
        "        self.context_words = gen_context_words_with_negative_sampling(corpus)\n",
        "    \n",
        "    def __len__(self) -> int:\n",
        "        return len(self.context_words)\n",
        "\n",
        "    def __getitem__(self, i: int):\n",
        "        target_word, context_word, negative_samples = self.context_words[i]\n",
        "        target_tensor = torch.tensor(np.array(word_2_index[target_word]), dtype=torch.long)\n",
        "        context_tensor = torch.tensor(np.array(word_2_index[context_word]), dtype=torch.long)\n",
        "        negative_tensor = torch.tensor(np.array([word_2_index[word] for word in negative_samples]), dtype=torch.long)\n",
        "\n",
        "        return target_tensor, context_tensor, negative_tensor\n",
        "\n",
        "\n",
        "\n",
        "dataset = word2vecDataset(final_corpus)\n",
        "train_loader = DataLoader(dataset, shuffle=True, batch_size=16)\n",
        "\n",
        "\n",
        "print(next(iter(train_loader)))\n"
      ],
      "metadata": {
        "colab": {
          "base_uri": "https://localhost:8080/"
        },
        "id": "-6bmqk8zj_zi",
        "outputId": "3d7ee98c-2d53-4ec9-ac6c-2076c7ad2b6d"
      },
      "execution_count": 36,
      "outputs": [
        {
          "output_type": "stream",
          "name": "stderr",
          "text": [
            "100%|██████████| 20/20 [00:19<00:00,  1.00it/s]"
          ]
        },
        {
          "output_type": "stream",
          "name": "stdout",
          "text": [
            "[tensor([79565, 80341, 35287, 54106, 31178, 57992, 10673, 42177, 91794,  4186,\n",
            "        81089, 54106, 90680, 91794, 42177,  1197]), tensor([47463, 16202, 77602, 92111, 59236,  4186, 22928, 84166, 35254, 47463,\n",
            "        81022,  7575, 17334, 50924, 55996, 46635]), tensor([[ 1197, 94219,  8311, 87419, 38456, 57697, 49939, 26770],\n",
            "        [50678, 93500,  8086, 48208, 42698, 61921, 82094, 71516],\n",
            "        [97805, 51987, 49652, 82358, 86661, 14706, 83529, 62256],\n",
            "        [ 4186, 44891, 67772, 30506, 19696, 96559, 10328, 30984],\n",
            "        [35824, 94180, 72945, 49320, 47562, 45865, 20336, 74802],\n",
            "        [36770, 34002, 93467, 69006, 10185,  8074, 53860, 12647],\n",
            "        [98278, 74412, 11997, 85019, 58167, 68985, 98207, 78079],\n",
            "        [16296, 13057, 57697, 71397, 58044, 93287, 37787, 50545],\n",
            "        [34002, 41020, 16853, 48704, 18337, 31980, 82054, 41126],\n",
            "        [10918, 75802, 61900, 85903, 60869, 16918, 10229, 66283],\n",
            "        [56126, 32171, 20702,  8585, 90917, 39249, 95414, 76630],\n",
            "        [10466, 58672, 15419, 97945, 66730, 30345,   706, 85105],\n",
            "        [ 5134, 12511,   470, 56459, 27346, 28275, 50263, 19123],\n",
            "        [17327, 89634, 71340, 21445, 77668, 12456, 47864, 90786],\n",
            "        [94219, 70137, 56272, 86987, 47844, 49510, 55674, 12988],\n",
            "        [13057, 24358, 17058, 95586, 58452, 52026, 91518, 73468]])]\n"
          ]
        },
        {
          "output_type": "stream",
          "name": "stderr",
          "text": [
            "\n"
          ]
        }
      ]
    },
    {
      "cell_type": "code",
      "source": [
        "\n",
        "class Word2Vec(nn.Module):\n",
        "    def __init__(self, embedding_size, vocab_size):\n",
        "        \"\"\"\n",
        "        \"\"\"\n",
        "        super().__init__()\n",
        "        self.target_embedding = nn.Embedding(vocab_size, embedding_size)\n",
        "        self.context_embedding = nn.Embedding(vocab_size, embedding_size)\n",
        "\n",
        "    def forward(self, target_word, context_word, negative_words):\n",
        "        \"\"\"\n",
        "        \"\"\"\n",
        "        targ_emb = self.target_embedding(target_word)       # output_size=torch.Size([batch_size, embedding_size])\n",
        "        cont_emb = self.context_embedding(context_word)     # output_size=torch.Size([batch_size, embedding_size])\n",
        "        emb_product = torch.mul(targ_emb, cont_emb)         # output_size=torch.Size([batch_size, embedding_size])\n",
        "        emb_product = torch.sum(emb_product, dim=1)         # output_size=torch.Size([batch_size])\n",
        "        out = torch.sum(F.logsigmoid(emb_product))\n",
        "        \n",
        "        \n",
        "        \n",
        "\n",
        "model = Word2Vec(256, len(final_vocabulary))\n",
        "sample_target_batch,  sample_context_batch, sample_negatives_batch = next(iter(train_loader))\n",
        "\n",
        "print(f\"Shape of sample input target tensor batch ==> {sample_target_batch.size()}\")\n",
        "print(f\"Shape of sample input context tensor batch ==> {sample_context_batch.size()}\")\n",
        "print(f\"Shape of sample input negative samples tensor batch ==> {sample_negatives_batch.size()}\")\n",
        "\n",
        "\n",
        "model(sample_target_batch, sample_context_batch, sample_negatives_batch)"
      ],
      "metadata": {
        "colab": {
          "base_uri": "https://localhost:8080/"
        },
        "id": "TPHaR4xDebo3",
        "outputId": "88f2c076-3986-47d0-9d8d-f00c431c2281"
      },
      "execution_count": 37,
      "outputs": [
        {
          "output_type": "stream",
          "name": "stdout",
          "text": [
            "Shape of sample input target tensor batch ==> torch.Size([16])\n",
            "Shape of sample input context tensor batch ==> torch.Size([16])\n",
            "Shape of sample input negative samples tensor batch ==> torch.Size([16, 8])\n",
            "tensor(-87.2528, grad_fn=<SumBackward0>)\n"
          ]
        }
      ]
    },
    {
      "cell_type": "code",
      "source": [],
      "metadata": {
        "id": "a816mDsjt9zu"
      },
      "execution_count": null,
      "outputs": []
    }
  ],
  "metadata": {
    "colab": {
      "collapsed_sections": [],
      "provenance": []
    },
    "kernelspec": {
      "display_name": "Python 3.9.7 ('insurtech')",
      "language": "python",
      "name": "python3"
    },
    "language_info": {
      "codemirror_mode": {
        "name": "ipython",
        "version": 3
      },
      "file_extension": ".py",
      "mimetype": "text/x-python",
      "name": "python",
      "nbconvert_exporter": "python",
      "pygments_lexer": "ipython3",
      "version": "3.9.7"
    },
    "vscode": {
      "interpreter": {
        "hash": "a4d53cec37a246686fa871ddfe9503a022ca484fc74341e93fbea7730c2497e3"
      }
    },
    "widgets": {
      "application/vnd.jupyter.widget-state+json": {
        "4ef5599bd1fc48f09ad57b162f40e499": {
          "model_module": "@jupyter-widgets/controls",
          "model_name": "HBoxModel",
          "model_module_version": "1.5.0",
          "state": {
            "_dom_classes": [],
            "_model_module": "@jupyter-widgets/controls",
            "_model_module_version": "1.5.0",
            "_model_name": "HBoxModel",
            "_view_count": null,
            "_view_module": "@jupyter-widgets/controls",
            "_view_module_version": "1.5.0",
            "_view_name": "HBoxView",
            "box_style": "",
            "children": [
              "IPY_MODEL_4cca4e3b5af54fcbb94b3ecf81b51039",
              "IPY_MODEL_663fb0ed7c7f4ff1a5f44b468ab264e1",
              "IPY_MODEL_8fda126f315a49289d6e4a2d88421afe"
            ],
            "layout": "IPY_MODEL_b1ef8b4d227a45369007e25157eee30d"
          }
        },
        "4cca4e3b5af54fcbb94b3ecf81b51039": {
          "model_module": "@jupyter-widgets/controls",
          "model_name": "HTMLModel",
          "model_module_version": "1.5.0",
          "state": {
            "_dom_classes": [],
            "_model_module": "@jupyter-widgets/controls",
            "_model_module_version": "1.5.0",
            "_model_name": "HTMLModel",
            "_view_count": null,
            "_view_module": "@jupyter-widgets/controls",
            "_view_module_version": "1.5.0",
            "_view_name": "HTMLView",
            "description": "",
            "description_tooltip": null,
            "layout": "IPY_MODEL_4d53e6ff33e048f8b54fd889e1e74898",
            "placeholder": "​",
            "style": "IPY_MODEL_6e46a680427d41f8bb2b07ec92ed5ebe",
            "value": "Downloading builder script: "
          }
        },
        "663fb0ed7c7f4ff1a5f44b468ab264e1": {
          "model_module": "@jupyter-widgets/controls",
          "model_name": "FloatProgressModel",
          "model_module_version": "1.5.0",
          "state": {
            "_dom_classes": [],
            "_model_module": "@jupyter-widgets/controls",
            "_model_module_version": "1.5.0",
            "_model_name": "FloatProgressModel",
            "_view_count": null,
            "_view_module": "@jupyter-widgets/controls",
            "_view_module_version": "1.5.0",
            "_view_name": "ProgressView",
            "bar_style": "success",
            "description": "",
            "description_tooltip": null,
            "layout": "IPY_MODEL_39bbd4b3f55e40349eec7e3bb2f2c728",
            "max": 1493,
            "min": 0,
            "orientation": "horizontal",
            "style": "IPY_MODEL_85c6c8451a6049cfa0dc799ae0db75a8",
            "value": 1493
          }
        },
        "8fda126f315a49289d6e4a2d88421afe": {
          "model_module": "@jupyter-widgets/controls",
          "model_name": "HTMLModel",
          "model_module_version": "1.5.0",
          "state": {
            "_dom_classes": [],
            "_model_module": "@jupyter-widgets/controls",
            "_model_module_version": "1.5.0",
            "_model_name": "HTMLModel",
            "_view_count": null,
            "_view_module": "@jupyter-widgets/controls",
            "_view_module_version": "1.5.0",
            "_view_name": "HTMLView",
            "description": "",
            "description_tooltip": null,
            "layout": "IPY_MODEL_4aac787e89f24b26b3ac1ff8308c4389",
            "placeholder": "​",
            "style": "IPY_MODEL_54750c905c3a42b69183fe1111756ed6",
            "value": " 3.14k/? [00:00&lt;00:00, 89.2kB/s]"
          }
        },
        "b1ef8b4d227a45369007e25157eee30d": {
          "model_module": "@jupyter-widgets/base",
          "model_name": "LayoutModel",
          "model_module_version": "1.2.0",
          "state": {
            "_model_module": "@jupyter-widgets/base",
            "_model_module_version": "1.2.0",
            "_model_name": "LayoutModel",
            "_view_count": null,
            "_view_module": "@jupyter-widgets/base",
            "_view_module_version": "1.2.0",
            "_view_name": "LayoutView",
            "align_content": null,
            "align_items": null,
            "align_self": null,
            "border": null,
            "bottom": null,
            "display": null,
            "flex": null,
            "flex_flow": null,
            "grid_area": null,
            "grid_auto_columns": null,
            "grid_auto_flow": null,
            "grid_auto_rows": null,
            "grid_column": null,
            "grid_gap": null,
            "grid_row": null,
            "grid_template_areas": null,
            "grid_template_columns": null,
            "grid_template_rows": null,
            "height": null,
            "justify_content": null,
            "justify_items": null,
            "left": null,
            "margin": null,
            "max_height": null,
            "max_width": null,
            "min_height": null,
            "min_width": null,
            "object_fit": null,
            "object_position": null,
            "order": null,
            "overflow": null,
            "overflow_x": null,
            "overflow_y": null,
            "padding": null,
            "right": null,
            "top": null,
            "visibility": null,
            "width": null
          }
        },
        "4d53e6ff33e048f8b54fd889e1e74898": {
          "model_module": "@jupyter-widgets/base",
          "model_name": "LayoutModel",
          "model_module_version": "1.2.0",
          "state": {
            "_model_module": "@jupyter-widgets/base",
            "_model_module_version": "1.2.0",
            "_model_name": "LayoutModel",
            "_view_count": null,
            "_view_module": "@jupyter-widgets/base",
            "_view_module_version": "1.2.0",
            "_view_name": "LayoutView",
            "align_content": null,
            "align_items": null,
            "align_self": null,
            "border": null,
            "bottom": null,
            "display": null,
            "flex": null,
            "flex_flow": null,
            "grid_area": null,
            "grid_auto_columns": null,
            "grid_auto_flow": null,
            "grid_auto_rows": null,
            "grid_column": null,
            "grid_gap": null,
            "grid_row": null,
            "grid_template_areas": null,
            "grid_template_columns": null,
            "grid_template_rows": null,
            "height": null,
            "justify_content": null,
            "justify_items": null,
            "left": null,
            "margin": null,
            "max_height": null,
            "max_width": null,
            "min_height": null,
            "min_width": null,
            "object_fit": null,
            "object_position": null,
            "order": null,
            "overflow": null,
            "overflow_x": null,
            "overflow_y": null,
            "padding": null,
            "right": null,
            "top": null,
            "visibility": null,
            "width": null
          }
        },
        "6e46a680427d41f8bb2b07ec92ed5ebe": {
          "model_module": "@jupyter-widgets/controls",
          "model_name": "DescriptionStyleModel",
          "model_module_version": "1.5.0",
          "state": {
            "_model_module": "@jupyter-widgets/controls",
            "_model_module_version": "1.5.0",
            "_model_name": "DescriptionStyleModel",
            "_view_count": null,
            "_view_module": "@jupyter-widgets/base",
            "_view_module_version": "1.2.0",
            "_view_name": "StyleView",
            "description_width": ""
          }
        },
        "39bbd4b3f55e40349eec7e3bb2f2c728": {
          "model_module": "@jupyter-widgets/base",
          "model_name": "LayoutModel",
          "model_module_version": "1.2.0",
          "state": {
            "_model_module": "@jupyter-widgets/base",
            "_model_module_version": "1.2.0",
            "_model_name": "LayoutModel",
            "_view_count": null,
            "_view_module": "@jupyter-widgets/base",
            "_view_module_version": "1.2.0",
            "_view_name": "LayoutView",
            "align_content": null,
            "align_items": null,
            "align_self": null,
            "border": null,
            "bottom": null,
            "display": null,
            "flex": null,
            "flex_flow": null,
            "grid_area": null,
            "grid_auto_columns": null,
            "grid_auto_flow": null,
            "grid_auto_rows": null,
            "grid_column": null,
            "grid_gap": null,
            "grid_row": null,
            "grid_template_areas": null,
            "grid_template_columns": null,
            "grid_template_rows": null,
            "height": null,
            "justify_content": null,
            "justify_items": null,
            "left": null,
            "margin": null,
            "max_height": null,
            "max_width": null,
            "min_height": null,
            "min_width": null,
            "object_fit": null,
            "object_position": null,
            "order": null,
            "overflow": null,
            "overflow_x": null,
            "overflow_y": null,
            "padding": null,
            "right": null,
            "top": null,
            "visibility": null,
            "width": null
          }
        },
        "85c6c8451a6049cfa0dc799ae0db75a8": {
          "model_module": "@jupyter-widgets/controls",
          "model_name": "ProgressStyleModel",
          "model_module_version": "1.5.0",
          "state": {
            "_model_module": "@jupyter-widgets/controls",
            "_model_module_version": "1.5.0",
            "_model_name": "ProgressStyleModel",
            "_view_count": null,
            "_view_module": "@jupyter-widgets/base",
            "_view_module_version": "1.2.0",
            "_view_name": "StyleView",
            "bar_color": null,
            "description_width": ""
          }
        },
        "4aac787e89f24b26b3ac1ff8308c4389": {
          "model_module": "@jupyter-widgets/base",
          "model_name": "LayoutModel",
          "model_module_version": "1.2.0",
          "state": {
            "_model_module": "@jupyter-widgets/base",
            "_model_module_version": "1.2.0",
            "_model_name": "LayoutModel",
            "_view_count": null,
            "_view_module": "@jupyter-widgets/base",
            "_view_module_version": "1.2.0",
            "_view_name": "LayoutView",
            "align_content": null,
            "align_items": null,
            "align_self": null,
            "border": null,
            "bottom": null,
            "display": null,
            "flex": null,
            "flex_flow": null,
            "grid_area": null,
            "grid_auto_columns": null,
            "grid_auto_flow": null,
            "grid_auto_rows": null,
            "grid_column": null,
            "grid_gap": null,
            "grid_row": null,
            "grid_template_areas": null,
            "grid_template_columns": null,
            "grid_template_rows": null,
            "height": null,
            "justify_content": null,
            "justify_items": null,
            "left": null,
            "margin": null,
            "max_height": null,
            "max_width": null,
            "min_height": null,
            "min_width": null,
            "object_fit": null,
            "object_position": null,
            "order": null,
            "overflow": null,
            "overflow_x": null,
            "overflow_y": null,
            "padding": null,
            "right": null,
            "top": null,
            "visibility": null,
            "width": null
          }
        },
        "54750c905c3a42b69183fe1111756ed6": {
          "model_module": "@jupyter-widgets/controls",
          "model_name": "DescriptionStyleModel",
          "model_module_version": "1.5.0",
          "state": {
            "_model_module": "@jupyter-widgets/controls",
            "_model_module_version": "1.5.0",
            "_model_name": "DescriptionStyleModel",
            "_view_count": null,
            "_view_module": "@jupyter-widgets/base",
            "_view_module_version": "1.2.0",
            "_view_name": "StyleView",
            "description_width": ""
          }
        },
        "c5e0eb2a32a04802a581b0b64089a81d": {
          "model_module": "@jupyter-widgets/controls",
          "model_name": "HBoxModel",
          "model_module_version": "1.5.0",
          "state": {
            "_dom_classes": [],
            "_model_module": "@jupyter-widgets/controls",
            "_model_module_version": "1.5.0",
            "_model_name": "HBoxModel",
            "_view_count": null,
            "_view_module": "@jupyter-widgets/controls",
            "_view_module_version": "1.5.0",
            "_view_name": "HBoxView",
            "box_style": "",
            "children": [
              "IPY_MODEL_ed1db60f6469401f9dc5f989d8cd16cc",
              "IPY_MODEL_7b6d5e305eaa4733aedf9cb0ca8d1053",
              "IPY_MODEL_c4f38896ec724275a20885bb31f3cfbe"
            ],
            "layout": "IPY_MODEL_080ecf7af58b4df6837981116faab8d7"
          }
        },
        "ed1db60f6469401f9dc5f989d8cd16cc": {
          "model_module": "@jupyter-widgets/controls",
          "model_name": "HTMLModel",
          "model_module_version": "1.5.0",
          "state": {
            "_dom_classes": [],
            "_model_module": "@jupyter-widgets/controls",
            "_model_module_version": "1.5.0",
            "_model_name": "HTMLModel",
            "_view_count": null,
            "_view_module": "@jupyter-widgets/controls",
            "_view_module_version": "1.5.0",
            "_view_name": "HTMLView",
            "description": "",
            "description_tooltip": null,
            "layout": "IPY_MODEL_76f3dbb8d045456781a842c28f626e36",
            "placeholder": "​",
            "style": "IPY_MODEL_f071b32004fb4cf99cd3aac089b34ec8",
            "value": "Downloading metadata: "
          }
        },
        "7b6d5e305eaa4733aedf9cb0ca8d1053": {
          "model_module": "@jupyter-widgets/controls",
          "model_name": "FloatProgressModel",
          "model_module_version": "1.5.0",
          "state": {
            "_dom_classes": [],
            "_model_module": "@jupyter-widgets/controls",
            "_model_module_version": "1.5.0",
            "_model_name": "FloatProgressModel",
            "_view_count": null,
            "_view_module": "@jupyter-widgets/controls",
            "_view_module_version": "1.5.0",
            "_view_name": "ProgressView",
            "bar_style": "success",
            "description": "",
            "description_tooltip": null,
            "layout": "IPY_MODEL_20483a1432b342b1b6d797ee16fac944",
            "max": 942,
            "min": 0,
            "orientation": "horizontal",
            "style": "IPY_MODEL_0895c5a13a464857b1128e1d027ebec5",
            "value": 942
          }
        },
        "c4f38896ec724275a20885bb31f3cfbe": {
          "model_module": "@jupyter-widgets/controls",
          "model_name": "HTMLModel",
          "model_module_version": "1.5.0",
          "state": {
            "_dom_classes": [],
            "_model_module": "@jupyter-widgets/controls",
            "_model_module_version": "1.5.0",
            "_model_name": "HTMLModel",
            "_view_count": null,
            "_view_module": "@jupyter-widgets/controls",
            "_view_module_version": "1.5.0",
            "_view_name": "HTMLView",
            "description": "",
            "description_tooltip": null,
            "layout": "IPY_MODEL_02fe6c5108214c978cfc952a60b76738",
            "placeholder": "​",
            "style": "IPY_MODEL_bfb272fc7d95467f890f93abf0bc03d5",
            "value": " 3.47k/? [00:00&lt;00:00, 108kB/s]"
          }
        },
        "080ecf7af58b4df6837981116faab8d7": {
          "model_module": "@jupyter-widgets/base",
          "model_name": "LayoutModel",
          "model_module_version": "1.2.0",
          "state": {
            "_model_module": "@jupyter-widgets/base",
            "_model_module_version": "1.2.0",
            "_model_name": "LayoutModel",
            "_view_count": null,
            "_view_module": "@jupyter-widgets/base",
            "_view_module_version": "1.2.0",
            "_view_name": "LayoutView",
            "align_content": null,
            "align_items": null,
            "align_self": null,
            "border": null,
            "bottom": null,
            "display": null,
            "flex": null,
            "flex_flow": null,
            "grid_area": null,
            "grid_auto_columns": null,
            "grid_auto_flow": null,
            "grid_auto_rows": null,
            "grid_column": null,
            "grid_gap": null,
            "grid_row": null,
            "grid_template_areas": null,
            "grid_template_columns": null,
            "grid_template_rows": null,
            "height": null,
            "justify_content": null,
            "justify_items": null,
            "left": null,
            "margin": null,
            "max_height": null,
            "max_width": null,
            "min_height": null,
            "min_width": null,
            "object_fit": null,
            "object_position": null,
            "order": null,
            "overflow": null,
            "overflow_x": null,
            "overflow_y": null,
            "padding": null,
            "right": null,
            "top": null,
            "visibility": null,
            "width": null
          }
        },
        "76f3dbb8d045456781a842c28f626e36": {
          "model_module": "@jupyter-widgets/base",
          "model_name": "LayoutModel",
          "model_module_version": "1.2.0",
          "state": {
            "_model_module": "@jupyter-widgets/base",
            "_model_module_version": "1.2.0",
            "_model_name": "LayoutModel",
            "_view_count": null,
            "_view_module": "@jupyter-widgets/base",
            "_view_module_version": "1.2.0",
            "_view_name": "LayoutView",
            "align_content": null,
            "align_items": null,
            "align_self": null,
            "border": null,
            "bottom": null,
            "display": null,
            "flex": null,
            "flex_flow": null,
            "grid_area": null,
            "grid_auto_columns": null,
            "grid_auto_flow": null,
            "grid_auto_rows": null,
            "grid_column": null,
            "grid_gap": null,
            "grid_row": null,
            "grid_template_areas": null,
            "grid_template_columns": null,
            "grid_template_rows": null,
            "height": null,
            "justify_content": null,
            "justify_items": null,
            "left": null,
            "margin": null,
            "max_height": null,
            "max_width": null,
            "min_height": null,
            "min_width": null,
            "object_fit": null,
            "object_position": null,
            "order": null,
            "overflow": null,
            "overflow_x": null,
            "overflow_y": null,
            "padding": null,
            "right": null,
            "top": null,
            "visibility": null,
            "width": null
          }
        },
        "f071b32004fb4cf99cd3aac089b34ec8": {
          "model_module": "@jupyter-widgets/controls",
          "model_name": "DescriptionStyleModel",
          "model_module_version": "1.5.0",
          "state": {
            "_model_module": "@jupyter-widgets/controls",
            "_model_module_version": "1.5.0",
            "_model_name": "DescriptionStyleModel",
            "_view_count": null,
            "_view_module": "@jupyter-widgets/base",
            "_view_module_version": "1.2.0",
            "_view_name": "StyleView",
            "description_width": ""
          }
        },
        "20483a1432b342b1b6d797ee16fac944": {
          "model_module": "@jupyter-widgets/base",
          "model_name": "LayoutModel",
          "model_module_version": "1.2.0",
          "state": {
            "_model_module": "@jupyter-widgets/base",
            "_model_module_version": "1.2.0",
            "_model_name": "LayoutModel",
            "_view_count": null,
            "_view_module": "@jupyter-widgets/base",
            "_view_module_version": "1.2.0",
            "_view_name": "LayoutView",
            "align_content": null,
            "align_items": null,
            "align_self": null,
            "border": null,
            "bottom": null,
            "display": null,
            "flex": null,
            "flex_flow": null,
            "grid_area": null,
            "grid_auto_columns": null,
            "grid_auto_flow": null,
            "grid_auto_rows": null,
            "grid_column": null,
            "grid_gap": null,
            "grid_row": null,
            "grid_template_areas": null,
            "grid_template_columns": null,
            "grid_template_rows": null,
            "height": null,
            "justify_content": null,
            "justify_items": null,
            "left": null,
            "margin": null,
            "max_height": null,
            "max_width": null,
            "min_height": null,
            "min_width": null,
            "object_fit": null,
            "object_position": null,
            "order": null,
            "overflow": null,
            "overflow_x": null,
            "overflow_y": null,
            "padding": null,
            "right": null,
            "top": null,
            "visibility": null,
            "width": null
          }
        },
        "0895c5a13a464857b1128e1d027ebec5": {
          "model_module": "@jupyter-widgets/controls",
          "model_name": "ProgressStyleModel",
          "model_module_version": "1.5.0",
          "state": {
            "_model_module": "@jupyter-widgets/controls",
            "_model_module_version": "1.5.0",
            "_model_name": "ProgressStyleModel",
            "_view_count": null,
            "_view_module": "@jupyter-widgets/base",
            "_view_module_version": "1.2.0",
            "_view_name": "StyleView",
            "bar_color": null,
            "description_width": ""
          }
        },
        "02fe6c5108214c978cfc952a60b76738": {
          "model_module": "@jupyter-widgets/base",
          "model_name": "LayoutModel",
          "model_module_version": "1.2.0",
          "state": {
            "_model_module": "@jupyter-widgets/base",
            "_model_module_version": "1.2.0",
            "_model_name": "LayoutModel",
            "_view_count": null,
            "_view_module": "@jupyter-widgets/base",
            "_view_module_version": "1.2.0",
            "_view_name": "LayoutView",
            "align_content": null,
            "align_items": null,
            "align_self": null,
            "border": null,
            "bottom": null,
            "display": null,
            "flex": null,
            "flex_flow": null,
            "grid_area": null,
            "grid_auto_columns": null,
            "grid_auto_flow": null,
            "grid_auto_rows": null,
            "grid_column": null,
            "grid_gap": null,
            "grid_row": null,
            "grid_template_areas": null,
            "grid_template_columns": null,
            "grid_template_rows": null,
            "height": null,
            "justify_content": null,
            "justify_items": null,
            "left": null,
            "margin": null,
            "max_height": null,
            "max_width": null,
            "min_height": null,
            "min_width": null,
            "object_fit": null,
            "object_position": null,
            "order": null,
            "overflow": null,
            "overflow_x": null,
            "overflow_y": null,
            "padding": null,
            "right": null,
            "top": null,
            "visibility": null,
            "width": null
          }
        },
        "bfb272fc7d95467f890f93abf0bc03d5": {
          "model_module": "@jupyter-widgets/controls",
          "model_name": "DescriptionStyleModel",
          "model_module_version": "1.5.0",
          "state": {
            "_model_module": "@jupyter-widgets/controls",
            "_model_module_version": "1.5.0",
            "_model_name": "DescriptionStyleModel",
            "_view_count": null,
            "_view_module": "@jupyter-widgets/base",
            "_view_module_version": "1.2.0",
            "_view_name": "StyleView",
            "description_width": ""
          }
        },
        "211b7071a23e4acc80adbcbffa232a7b": {
          "model_module": "@jupyter-widgets/controls",
          "model_name": "HBoxModel",
          "model_module_version": "1.5.0",
          "state": {
            "_dom_classes": [],
            "_model_module": "@jupyter-widgets/controls",
            "_model_module_version": "1.5.0",
            "_model_name": "HBoxModel",
            "_view_count": null,
            "_view_module": "@jupyter-widgets/controls",
            "_view_module_version": "1.5.0",
            "_view_name": "HBoxView",
            "box_style": "",
            "children": [
              "IPY_MODEL_dc65be6a73834e47a185ff8f9137e75c",
              "IPY_MODEL_658365266d0b429c9c83623e43dd0884",
              "IPY_MODEL_91732e12cba34fea9b6dd413ef607b32"
            ],
            "layout": "IPY_MODEL_22398daa626946b8903b3ecbcb7215c3"
          }
        },
        "dc65be6a73834e47a185ff8f9137e75c": {
          "model_module": "@jupyter-widgets/controls",
          "model_name": "HTMLModel",
          "model_module_version": "1.5.0",
          "state": {
            "_dom_classes": [],
            "_model_module": "@jupyter-widgets/controls",
            "_model_module_version": "1.5.0",
            "_model_name": "HTMLModel",
            "_view_count": null,
            "_view_module": "@jupyter-widgets/controls",
            "_view_module_version": "1.5.0",
            "_view_name": "HTMLView",
            "description": "",
            "description_tooltip": null,
            "layout": "IPY_MODEL_89c6d0f86676474fbc9ad88a13c9174f",
            "placeholder": "​",
            "style": "IPY_MODEL_bdeefedc943a4e558c82ec2fc5f0d185",
            "value": "Downloading data: 100%"
          }
        },
        "658365266d0b429c9c83623e43dd0884": {
          "model_module": "@jupyter-widgets/controls",
          "model_name": "FloatProgressModel",
          "model_module_version": "1.5.0",
          "state": {
            "_dom_classes": [],
            "_model_module": "@jupyter-widgets/controls",
            "_model_module_version": "1.5.0",
            "_model_name": "FloatProgressModel",
            "_view_count": null,
            "_view_module": "@jupyter-widgets/controls",
            "_view_module_version": "1.5.0",
            "_view_name": "ProgressView",
            "bar_style": "success",
            "description": "",
            "description_tooltip": null,
            "layout": "IPY_MODEL_ef7d5634a9524644a9fb443188de1511",
            "max": 75407454,
            "min": 0,
            "orientation": "horizontal",
            "style": "IPY_MODEL_e1c0cd9fc8054daa997a558641afc8d6",
            "value": 75407454
          }
        },
        "91732e12cba34fea9b6dd413ef607b32": {
          "model_module": "@jupyter-widgets/controls",
          "model_name": "HTMLModel",
          "model_module_version": "1.5.0",
          "state": {
            "_dom_classes": [],
            "_model_module": "@jupyter-widgets/controls",
            "_model_module_version": "1.5.0",
            "_model_name": "HTMLModel",
            "_view_count": null,
            "_view_module": "@jupyter-widgets/controls",
            "_view_module_version": "1.5.0",
            "_view_name": "HTMLView",
            "description": "",
            "description_tooltip": null,
            "layout": "IPY_MODEL_675412a1bf2b42afad5b24fe1465533f",
            "placeholder": "​",
            "style": "IPY_MODEL_91513847bcac4ba69479a78be20233a1",
            "value": " 75.4M/75.4M [00:02&lt;00:00, 39.7MB/s]"
          }
        },
        "22398daa626946b8903b3ecbcb7215c3": {
          "model_module": "@jupyter-widgets/base",
          "model_name": "LayoutModel",
          "model_module_version": "1.2.0",
          "state": {
            "_model_module": "@jupyter-widgets/base",
            "_model_module_version": "1.2.0",
            "_model_name": "LayoutModel",
            "_view_count": null,
            "_view_module": "@jupyter-widgets/base",
            "_view_module_version": "1.2.0",
            "_view_name": "LayoutView",
            "align_content": null,
            "align_items": null,
            "align_self": null,
            "border": null,
            "bottom": null,
            "display": null,
            "flex": null,
            "flex_flow": null,
            "grid_area": null,
            "grid_auto_columns": null,
            "grid_auto_flow": null,
            "grid_auto_rows": null,
            "grid_column": null,
            "grid_gap": null,
            "grid_row": null,
            "grid_template_areas": null,
            "grid_template_columns": null,
            "grid_template_rows": null,
            "height": null,
            "justify_content": null,
            "justify_items": null,
            "left": null,
            "margin": null,
            "max_height": null,
            "max_width": null,
            "min_height": null,
            "min_width": null,
            "object_fit": null,
            "object_position": null,
            "order": null,
            "overflow": null,
            "overflow_x": null,
            "overflow_y": null,
            "padding": null,
            "right": null,
            "top": null,
            "visibility": null,
            "width": null
          }
        },
        "89c6d0f86676474fbc9ad88a13c9174f": {
          "model_module": "@jupyter-widgets/base",
          "model_name": "LayoutModel",
          "model_module_version": "1.2.0",
          "state": {
            "_model_module": "@jupyter-widgets/base",
            "_model_module_version": "1.2.0",
            "_model_name": "LayoutModel",
            "_view_count": null,
            "_view_module": "@jupyter-widgets/base",
            "_view_module_version": "1.2.0",
            "_view_name": "LayoutView",
            "align_content": null,
            "align_items": null,
            "align_self": null,
            "border": null,
            "bottom": null,
            "display": null,
            "flex": null,
            "flex_flow": null,
            "grid_area": null,
            "grid_auto_columns": null,
            "grid_auto_flow": null,
            "grid_auto_rows": null,
            "grid_column": null,
            "grid_gap": null,
            "grid_row": null,
            "grid_template_areas": null,
            "grid_template_columns": null,
            "grid_template_rows": null,
            "height": null,
            "justify_content": null,
            "justify_items": null,
            "left": null,
            "margin": null,
            "max_height": null,
            "max_width": null,
            "min_height": null,
            "min_width": null,
            "object_fit": null,
            "object_position": null,
            "order": null,
            "overflow": null,
            "overflow_x": null,
            "overflow_y": null,
            "padding": null,
            "right": null,
            "top": null,
            "visibility": null,
            "width": null
          }
        },
        "bdeefedc943a4e558c82ec2fc5f0d185": {
          "model_module": "@jupyter-widgets/controls",
          "model_name": "DescriptionStyleModel",
          "model_module_version": "1.5.0",
          "state": {
            "_model_module": "@jupyter-widgets/controls",
            "_model_module_version": "1.5.0",
            "_model_name": "DescriptionStyleModel",
            "_view_count": null,
            "_view_module": "@jupyter-widgets/base",
            "_view_module_version": "1.2.0",
            "_view_name": "StyleView",
            "description_width": ""
          }
        },
        "ef7d5634a9524644a9fb443188de1511": {
          "model_module": "@jupyter-widgets/base",
          "model_name": "LayoutModel",
          "model_module_version": "1.2.0",
          "state": {
            "_model_module": "@jupyter-widgets/base",
            "_model_module_version": "1.2.0",
            "_model_name": "LayoutModel",
            "_view_count": null,
            "_view_module": "@jupyter-widgets/base",
            "_view_module_version": "1.2.0",
            "_view_name": "LayoutView",
            "align_content": null,
            "align_items": null,
            "align_self": null,
            "border": null,
            "bottom": null,
            "display": null,
            "flex": null,
            "flex_flow": null,
            "grid_area": null,
            "grid_auto_columns": null,
            "grid_auto_flow": null,
            "grid_auto_rows": null,
            "grid_column": null,
            "grid_gap": null,
            "grid_row": null,
            "grid_template_areas": null,
            "grid_template_columns": null,
            "grid_template_rows": null,
            "height": null,
            "justify_content": null,
            "justify_items": null,
            "left": null,
            "margin": null,
            "max_height": null,
            "max_width": null,
            "min_height": null,
            "min_width": null,
            "object_fit": null,
            "object_position": null,
            "order": null,
            "overflow": null,
            "overflow_x": null,
            "overflow_y": null,
            "padding": null,
            "right": null,
            "top": null,
            "visibility": null,
            "width": null
          }
        },
        "e1c0cd9fc8054daa997a558641afc8d6": {
          "model_module": "@jupyter-widgets/controls",
          "model_name": "ProgressStyleModel",
          "model_module_version": "1.5.0",
          "state": {
            "_model_module": "@jupyter-widgets/controls",
            "_model_module_version": "1.5.0",
            "_model_name": "ProgressStyleModel",
            "_view_count": null,
            "_view_module": "@jupyter-widgets/base",
            "_view_module_version": "1.2.0",
            "_view_name": "StyleView",
            "bar_color": null,
            "description_width": ""
          }
        },
        "675412a1bf2b42afad5b24fe1465533f": {
          "model_module": "@jupyter-widgets/base",
          "model_name": "LayoutModel",
          "model_module_version": "1.2.0",
          "state": {
            "_model_module": "@jupyter-widgets/base",
            "_model_module_version": "1.2.0",
            "_model_name": "LayoutModel",
            "_view_count": null,
            "_view_module": "@jupyter-widgets/base",
            "_view_module_version": "1.2.0",
            "_view_name": "LayoutView",
            "align_content": null,
            "align_items": null,
            "align_self": null,
            "border": null,
            "bottom": null,
            "display": null,
            "flex": null,
            "flex_flow": null,
            "grid_area": null,
            "grid_auto_columns": null,
            "grid_auto_flow": null,
            "grid_auto_rows": null,
            "grid_column": null,
            "grid_gap": null,
            "grid_row": null,
            "grid_template_areas": null,
            "grid_template_columns": null,
            "grid_template_rows": null,
            "height": null,
            "justify_content": null,
            "justify_items": null,
            "left": null,
            "margin": null,
            "max_height": null,
            "max_width": null,
            "min_height": null,
            "min_width": null,
            "object_fit": null,
            "object_position": null,
            "order": null,
            "overflow": null,
            "overflow_x": null,
            "overflow_y": null,
            "padding": null,
            "right": null,
            "top": null,
            "visibility": null,
            "width": null
          }
        },
        "91513847bcac4ba69479a78be20233a1": {
          "model_module": "@jupyter-widgets/controls",
          "model_name": "DescriptionStyleModel",
          "model_module_version": "1.5.0",
          "state": {
            "_model_module": "@jupyter-widgets/controls",
            "_model_module_version": "1.5.0",
            "_model_name": "DescriptionStyleModel",
            "_view_count": null,
            "_view_module": "@jupyter-widgets/base",
            "_view_module_version": "1.2.0",
            "_view_name": "StyleView",
            "description_width": ""
          }
        },
        "ffb02c31d23c4d3cb95ce83ab8469379": {
          "model_module": "@jupyter-widgets/controls",
          "model_name": "HBoxModel",
          "model_module_version": "1.5.0",
          "state": {
            "_dom_classes": [],
            "_model_module": "@jupyter-widgets/controls",
            "_model_module_version": "1.5.0",
            "_model_name": "HBoxModel",
            "_view_count": null,
            "_view_module": "@jupyter-widgets/controls",
            "_view_module_version": "1.5.0",
            "_view_name": "HBoxView",
            "box_style": "",
            "children": [
              "IPY_MODEL_0bb293ae5dad471fbc34fe8b2459b4ba",
              "IPY_MODEL_564030fab0e34d649b375889eab22ee6",
              "IPY_MODEL_e00176f103c14906968ce21408bd1df4"
            ],
            "layout": "IPY_MODEL_1853330b0fd14bd9b763ad9751dbedfd"
          }
        },
        "0bb293ae5dad471fbc34fe8b2459b4ba": {
          "model_module": "@jupyter-widgets/controls",
          "model_name": "HTMLModel",
          "model_module_version": "1.5.0",
          "state": {
            "_dom_classes": [],
            "_model_module": "@jupyter-widgets/controls",
            "_model_module_version": "1.5.0",
            "_model_name": "HTMLModel",
            "_view_count": null,
            "_view_module": "@jupyter-widgets/controls",
            "_view_module_version": "1.5.0",
            "_view_name": "HTMLView",
            "description": "",
            "description_tooltip": null,
            "layout": "IPY_MODEL_c60dc2fc010943699d0c05b5e3305a4d",
            "placeholder": "​",
            "style": "IPY_MODEL_f60ac40fe7d649128ca23a1c1ddab087",
            "value": "Generating train split: 100%"
          }
        },
        "564030fab0e34d649b375889eab22ee6": {
          "model_module": "@jupyter-widgets/controls",
          "model_name": "FloatProgressModel",
          "model_module_version": "1.5.0",
          "state": {
            "_dom_classes": [],
            "_model_module": "@jupyter-widgets/controls",
            "_model_module_version": "1.5.0",
            "_model_name": "FloatProgressModel",
            "_view_count": null,
            "_view_module": "@jupyter-widgets/controls",
            "_view_module_version": "1.5.0",
            "_view_name": "ProgressView",
            "bar_style": "",
            "description": "",
            "description_tooltip": null,
            "layout": "IPY_MODEL_dd72244c7d554add93f41b4864219157",
            "max": 562238,
            "min": 0,
            "orientation": "horizontal",
            "style": "IPY_MODEL_1388671e6d5c4110b127622856c57002",
            "value": 562238
          }
        },
        "e00176f103c14906968ce21408bd1df4": {
          "model_module": "@jupyter-widgets/controls",
          "model_name": "HTMLModel",
          "model_module_version": "1.5.0",
          "state": {
            "_dom_classes": [],
            "_model_module": "@jupyter-widgets/controls",
            "_model_module_version": "1.5.0",
            "_model_name": "HTMLModel",
            "_view_count": null,
            "_view_module": "@jupyter-widgets/controls",
            "_view_module_version": "1.5.0",
            "_view_name": "HTMLView",
            "description": "",
            "description_tooltip": null,
            "layout": "IPY_MODEL_45b76e458e834641ab3ac4586800bcff",
            "placeholder": "​",
            "style": "IPY_MODEL_931fbfdd68f44bcaa44924fdb359ea79",
            "value": " 561922/562238 [00:13&lt;00:00, 51349.07 examples/s]"
          }
        },
        "1853330b0fd14bd9b763ad9751dbedfd": {
          "model_module": "@jupyter-widgets/base",
          "model_name": "LayoutModel",
          "model_module_version": "1.2.0",
          "state": {
            "_model_module": "@jupyter-widgets/base",
            "_model_module_version": "1.2.0",
            "_model_name": "LayoutModel",
            "_view_count": null,
            "_view_module": "@jupyter-widgets/base",
            "_view_module_version": "1.2.0",
            "_view_name": "LayoutView",
            "align_content": null,
            "align_items": null,
            "align_self": null,
            "border": null,
            "bottom": null,
            "display": null,
            "flex": null,
            "flex_flow": null,
            "grid_area": null,
            "grid_auto_columns": null,
            "grid_auto_flow": null,
            "grid_auto_rows": null,
            "grid_column": null,
            "grid_gap": null,
            "grid_row": null,
            "grid_template_areas": null,
            "grid_template_columns": null,
            "grid_template_rows": null,
            "height": null,
            "justify_content": null,
            "justify_items": null,
            "left": null,
            "margin": null,
            "max_height": null,
            "max_width": null,
            "min_height": null,
            "min_width": null,
            "object_fit": null,
            "object_position": null,
            "order": null,
            "overflow": null,
            "overflow_x": null,
            "overflow_y": null,
            "padding": null,
            "right": null,
            "top": null,
            "visibility": null,
            "width": null
          }
        },
        "c60dc2fc010943699d0c05b5e3305a4d": {
          "model_module": "@jupyter-widgets/base",
          "model_name": "LayoutModel",
          "model_module_version": "1.2.0",
          "state": {
            "_model_module": "@jupyter-widgets/base",
            "_model_module_version": "1.2.0",
            "_model_name": "LayoutModel",
            "_view_count": null,
            "_view_module": "@jupyter-widgets/base",
            "_view_module_version": "1.2.0",
            "_view_name": "LayoutView",
            "align_content": null,
            "align_items": null,
            "align_self": null,
            "border": null,
            "bottom": null,
            "display": null,
            "flex": null,
            "flex_flow": null,
            "grid_area": null,
            "grid_auto_columns": null,
            "grid_auto_flow": null,
            "grid_auto_rows": null,
            "grid_column": null,
            "grid_gap": null,
            "grid_row": null,
            "grid_template_areas": null,
            "grid_template_columns": null,
            "grid_template_rows": null,
            "height": null,
            "justify_content": null,
            "justify_items": null,
            "left": null,
            "margin": null,
            "max_height": null,
            "max_width": null,
            "min_height": null,
            "min_width": null,
            "object_fit": null,
            "object_position": null,
            "order": null,
            "overflow": null,
            "overflow_x": null,
            "overflow_y": null,
            "padding": null,
            "right": null,
            "top": null,
            "visibility": null,
            "width": null
          }
        },
        "f60ac40fe7d649128ca23a1c1ddab087": {
          "model_module": "@jupyter-widgets/controls",
          "model_name": "DescriptionStyleModel",
          "model_module_version": "1.5.0",
          "state": {
            "_model_module": "@jupyter-widgets/controls",
            "_model_module_version": "1.5.0",
            "_model_name": "DescriptionStyleModel",
            "_view_count": null,
            "_view_module": "@jupyter-widgets/base",
            "_view_module_version": "1.2.0",
            "_view_name": "StyleView",
            "description_width": ""
          }
        },
        "dd72244c7d554add93f41b4864219157": {
          "model_module": "@jupyter-widgets/base",
          "model_name": "LayoutModel",
          "model_module_version": "1.2.0",
          "state": {
            "_model_module": "@jupyter-widgets/base",
            "_model_module_version": "1.2.0",
            "_model_name": "LayoutModel",
            "_view_count": null,
            "_view_module": "@jupyter-widgets/base",
            "_view_module_version": "1.2.0",
            "_view_name": "LayoutView",
            "align_content": null,
            "align_items": null,
            "align_self": null,
            "border": null,
            "bottom": null,
            "display": null,
            "flex": null,
            "flex_flow": null,
            "grid_area": null,
            "grid_auto_columns": null,
            "grid_auto_flow": null,
            "grid_auto_rows": null,
            "grid_column": null,
            "grid_gap": null,
            "grid_row": null,
            "grid_template_areas": null,
            "grid_template_columns": null,
            "grid_template_rows": null,
            "height": null,
            "justify_content": null,
            "justify_items": null,
            "left": null,
            "margin": null,
            "max_height": null,
            "max_width": null,
            "min_height": null,
            "min_width": null,
            "object_fit": null,
            "object_position": null,
            "order": null,
            "overflow": null,
            "overflow_x": null,
            "overflow_y": null,
            "padding": null,
            "right": null,
            "top": null,
            "visibility": null,
            "width": null
          }
        },
        "1388671e6d5c4110b127622856c57002": {
          "model_module": "@jupyter-widgets/controls",
          "model_name": "ProgressStyleModel",
          "model_module_version": "1.5.0",
          "state": {
            "_model_module": "@jupyter-widgets/controls",
            "_model_module_version": "1.5.0",
            "_model_name": "ProgressStyleModel",
            "_view_count": null,
            "_view_module": "@jupyter-widgets/base",
            "_view_module_version": "1.2.0",
            "_view_name": "StyleView",
            "bar_color": null,
            "description_width": ""
          }
        },
        "45b76e458e834641ab3ac4586800bcff": {
          "model_module": "@jupyter-widgets/base",
          "model_name": "LayoutModel",
          "model_module_version": "1.2.0",
          "state": {
            "_model_module": "@jupyter-widgets/base",
            "_model_module_version": "1.2.0",
            "_model_name": "LayoutModel",
            "_view_count": null,
            "_view_module": "@jupyter-widgets/base",
            "_view_module_version": "1.2.0",
            "_view_name": "LayoutView",
            "align_content": null,
            "align_items": null,
            "align_self": null,
            "border": null,
            "bottom": null,
            "display": null,
            "flex": null,
            "flex_flow": null,
            "grid_area": null,
            "grid_auto_columns": null,
            "grid_auto_flow": null,
            "grid_auto_rows": null,
            "grid_column": null,
            "grid_gap": null,
            "grid_row": null,
            "grid_template_areas": null,
            "grid_template_columns": null,
            "grid_template_rows": null,
            "height": null,
            "justify_content": null,
            "justify_items": null,
            "left": null,
            "margin": null,
            "max_height": null,
            "max_width": null,
            "min_height": null,
            "min_width": null,
            "object_fit": null,
            "object_position": null,
            "order": null,
            "overflow": null,
            "overflow_x": null,
            "overflow_y": null,
            "padding": null,
            "right": null,
            "top": null,
            "visibility": null,
            "width": null
          }
        },
        "931fbfdd68f44bcaa44924fdb359ea79": {
          "model_module": "@jupyter-widgets/controls",
          "model_name": "DescriptionStyleModel",
          "model_module_version": "1.5.0",
          "state": {
            "_model_module": "@jupyter-widgets/controls",
            "_model_module_version": "1.5.0",
            "_model_name": "DescriptionStyleModel",
            "_view_count": null,
            "_view_module": "@jupyter-widgets/base",
            "_view_module_version": "1.2.0",
            "_view_name": "StyleView",
            "description_width": ""
          }
        },
        "0d24e61ae12a49cbb6df6c9179e057a8": {
          "model_module": "@jupyter-widgets/controls",
          "model_name": "HBoxModel",
          "model_module_version": "1.5.0",
          "state": {
            "_dom_classes": [],
            "_model_module": "@jupyter-widgets/controls",
            "_model_module_version": "1.5.0",
            "_model_name": "HBoxModel",
            "_view_count": null,
            "_view_module": "@jupyter-widgets/controls",
            "_view_module_version": "1.5.0",
            "_view_name": "HBoxView",
            "box_style": "",
            "children": [
              "IPY_MODEL_62ea27220c78474ea0eebef40d47c409",
              "IPY_MODEL_705d26c16e7541ddb460712c6634a39d",
              "IPY_MODEL_1f40169d29774ae483fc8dba9103f024"
            ],
            "layout": "IPY_MODEL_684d975721b44ada930aecaa673b3db4"
          }
        },
        "62ea27220c78474ea0eebef40d47c409": {
          "model_module": "@jupyter-widgets/controls",
          "model_name": "HTMLModel",
          "model_module_version": "1.5.0",
          "state": {
            "_dom_classes": [],
            "_model_module": "@jupyter-widgets/controls",
            "_model_module_version": "1.5.0",
            "_model_name": "HTMLModel",
            "_view_count": null,
            "_view_module": "@jupyter-widgets/controls",
            "_view_module_version": "1.5.0",
            "_view_name": "HTMLView",
            "description": "",
            "description_tooltip": null,
            "layout": "IPY_MODEL_3c01569aaf6945aab085ca361d4889c9",
            "placeholder": "​",
            "style": "IPY_MODEL_261876b3fb3c433682f6d6b3408b911e",
            "value": "100%"
          }
        },
        "705d26c16e7541ddb460712c6634a39d": {
          "model_module": "@jupyter-widgets/controls",
          "model_name": "FloatProgressModel",
          "model_module_version": "1.5.0",
          "state": {
            "_dom_classes": [],
            "_model_module": "@jupyter-widgets/controls",
            "_model_module_version": "1.5.0",
            "_model_name": "FloatProgressModel",
            "_view_count": null,
            "_view_module": "@jupyter-widgets/controls",
            "_view_module_version": "1.5.0",
            "_view_name": "ProgressView",
            "bar_style": "success",
            "description": "",
            "description_tooltip": null,
            "layout": "IPY_MODEL_4930f660e4d74d56878a816110a9743e",
            "max": 1,
            "min": 0,
            "orientation": "horizontal",
            "style": "IPY_MODEL_d08d6bcb1b904408a9b93d1053902a15",
            "value": 1
          }
        },
        "1f40169d29774ae483fc8dba9103f024": {
          "model_module": "@jupyter-widgets/controls",
          "model_name": "HTMLModel",
          "model_module_version": "1.5.0",
          "state": {
            "_dom_classes": [],
            "_model_module": "@jupyter-widgets/controls",
            "_model_module_version": "1.5.0",
            "_model_name": "HTMLModel",
            "_view_count": null,
            "_view_module": "@jupyter-widgets/controls",
            "_view_module_version": "1.5.0",
            "_view_name": "HTMLView",
            "description": "",
            "description_tooltip": null,
            "layout": "IPY_MODEL_ff3430d73d7a4922b919079119e19ddd",
            "placeholder": "​",
            "style": "IPY_MODEL_8bff6294e846446ba6c3e198575724bc",
            "value": " 1/1 [00:00&lt;00:00, 18.50it/s]"
          }
        },
        "684d975721b44ada930aecaa673b3db4": {
          "model_module": "@jupyter-widgets/base",
          "model_name": "LayoutModel",
          "model_module_version": "1.2.0",
          "state": {
            "_model_module": "@jupyter-widgets/base",
            "_model_module_version": "1.2.0",
            "_model_name": "LayoutModel",
            "_view_count": null,
            "_view_module": "@jupyter-widgets/base",
            "_view_module_version": "1.2.0",
            "_view_name": "LayoutView",
            "align_content": null,
            "align_items": null,
            "align_self": null,
            "border": null,
            "bottom": null,
            "display": null,
            "flex": null,
            "flex_flow": null,
            "grid_area": null,
            "grid_auto_columns": null,
            "grid_auto_flow": null,
            "grid_auto_rows": null,
            "grid_column": null,
            "grid_gap": null,
            "grid_row": null,
            "grid_template_areas": null,
            "grid_template_columns": null,
            "grid_template_rows": null,
            "height": null,
            "justify_content": null,
            "justify_items": null,
            "left": null,
            "margin": null,
            "max_height": null,
            "max_width": null,
            "min_height": null,
            "min_width": null,
            "object_fit": null,
            "object_position": null,
            "order": null,
            "overflow": null,
            "overflow_x": null,
            "overflow_y": null,
            "padding": null,
            "right": null,
            "top": null,
            "visibility": null,
            "width": null
          }
        },
        "3c01569aaf6945aab085ca361d4889c9": {
          "model_module": "@jupyter-widgets/base",
          "model_name": "LayoutModel",
          "model_module_version": "1.2.0",
          "state": {
            "_model_module": "@jupyter-widgets/base",
            "_model_module_version": "1.2.0",
            "_model_name": "LayoutModel",
            "_view_count": null,
            "_view_module": "@jupyter-widgets/base",
            "_view_module_version": "1.2.0",
            "_view_name": "LayoutView",
            "align_content": null,
            "align_items": null,
            "align_self": null,
            "border": null,
            "bottom": null,
            "display": null,
            "flex": null,
            "flex_flow": null,
            "grid_area": null,
            "grid_auto_columns": null,
            "grid_auto_flow": null,
            "grid_auto_rows": null,
            "grid_column": null,
            "grid_gap": null,
            "grid_row": null,
            "grid_template_areas": null,
            "grid_template_columns": null,
            "grid_template_rows": null,
            "height": null,
            "justify_content": null,
            "justify_items": null,
            "left": null,
            "margin": null,
            "max_height": null,
            "max_width": null,
            "min_height": null,
            "min_width": null,
            "object_fit": null,
            "object_position": null,
            "order": null,
            "overflow": null,
            "overflow_x": null,
            "overflow_y": null,
            "padding": null,
            "right": null,
            "top": null,
            "visibility": null,
            "width": null
          }
        },
        "261876b3fb3c433682f6d6b3408b911e": {
          "model_module": "@jupyter-widgets/controls",
          "model_name": "DescriptionStyleModel",
          "model_module_version": "1.5.0",
          "state": {
            "_model_module": "@jupyter-widgets/controls",
            "_model_module_version": "1.5.0",
            "_model_name": "DescriptionStyleModel",
            "_view_count": null,
            "_view_module": "@jupyter-widgets/base",
            "_view_module_version": "1.2.0",
            "_view_name": "StyleView",
            "description_width": ""
          }
        },
        "4930f660e4d74d56878a816110a9743e": {
          "model_module": "@jupyter-widgets/base",
          "model_name": "LayoutModel",
          "model_module_version": "1.2.0",
          "state": {
            "_model_module": "@jupyter-widgets/base",
            "_model_module_version": "1.2.0",
            "_model_name": "LayoutModel",
            "_view_count": null,
            "_view_module": "@jupyter-widgets/base",
            "_view_module_version": "1.2.0",
            "_view_name": "LayoutView",
            "align_content": null,
            "align_items": null,
            "align_self": null,
            "border": null,
            "bottom": null,
            "display": null,
            "flex": null,
            "flex_flow": null,
            "grid_area": null,
            "grid_auto_columns": null,
            "grid_auto_flow": null,
            "grid_auto_rows": null,
            "grid_column": null,
            "grid_gap": null,
            "grid_row": null,
            "grid_template_areas": null,
            "grid_template_columns": null,
            "grid_template_rows": null,
            "height": null,
            "justify_content": null,
            "justify_items": null,
            "left": null,
            "margin": null,
            "max_height": null,
            "max_width": null,
            "min_height": null,
            "min_width": null,
            "object_fit": null,
            "object_position": null,
            "order": null,
            "overflow": null,
            "overflow_x": null,
            "overflow_y": null,
            "padding": null,
            "right": null,
            "top": null,
            "visibility": null,
            "width": null
          }
        },
        "d08d6bcb1b904408a9b93d1053902a15": {
          "model_module": "@jupyter-widgets/controls",
          "model_name": "ProgressStyleModel",
          "model_module_version": "1.5.0",
          "state": {
            "_model_module": "@jupyter-widgets/controls",
            "_model_module_version": "1.5.0",
            "_model_name": "ProgressStyleModel",
            "_view_count": null,
            "_view_module": "@jupyter-widgets/base",
            "_view_module_version": "1.2.0",
            "_view_name": "StyleView",
            "bar_color": null,
            "description_width": ""
          }
        },
        "ff3430d73d7a4922b919079119e19ddd": {
          "model_module": "@jupyter-widgets/base",
          "model_name": "LayoutModel",
          "model_module_version": "1.2.0",
          "state": {
            "_model_module": "@jupyter-widgets/base",
            "_model_module_version": "1.2.0",
            "_model_name": "LayoutModel",
            "_view_count": null,
            "_view_module": "@jupyter-widgets/base",
            "_view_module_version": "1.2.0",
            "_view_name": "LayoutView",
            "align_content": null,
            "align_items": null,
            "align_self": null,
            "border": null,
            "bottom": null,
            "display": null,
            "flex": null,
            "flex_flow": null,
            "grid_area": null,
            "grid_auto_columns": null,
            "grid_auto_flow": null,
            "grid_auto_rows": null,
            "grid_column": null,
            "grid_gap": null,
            "grid_row": null,
            "grid_template_areas": null,
            "grid_template_columns": null,
            "grid_template_rows": null,
            "height": null,
            "justify_content": null,
            "justify_items": null,
            "left": null,
            "margin": null,
            "max_height": null,
            "max_width": null,
            "min_height": null,
            "min_width": null,
            "object_fit": null,
            "object_position": null,
            "order": null,
            "overflow": null,
            "overflow_x": null,
            "overflow_y": null,
            "padding": null,
            "right": null,
            "top": null,
            "visibility": null,
            "width": null
          }
        },
        "8bff6294e846446ba6c3e198575724bc": {
          "model_module": "@jupyter-widgets/controls",
          "model_name": "DescriptionStyleModel",
          "model_module_version": "1.5.0",
          "state": {
            "_model_module": "@jupyter-widgets/controls",
            "_model_module_version": "1.5.0",
            "_model_name": "DescriptionStyleModel",
            "_view_count": null,
            "_view_module": "@jupyter-widgets/base",
            "_view_module_version": "1.2.0",
            "_view_name": "StyleView",
            "description_width": ""
          }
        }
      }
    },
    "accelerator": "GPU",
    "gpuClass": "standard"
  },
  "nbformat": 4,
  "nbformat_minor": 0
}